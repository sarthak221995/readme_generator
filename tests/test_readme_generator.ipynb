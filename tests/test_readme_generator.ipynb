{
 "cells": [
  {
   "cell_type": "code",
   "execution_count": null,
   "id": "08fc109a",
   "metadata": {},
   "outputs": [],
   "source": [
    "from readme_generator import ReadmeGenerator, Config\n",
    "\n",
    "# Create configuration\n",
    "config = Config(\n",
    "    model_name=\"gemini/gemini-2.0-flash-exp\",\n",
    "    output_file=\"README.md\",\n",
    "    include_badges=True,\n",
    "    include_toc=True\n",
    ")\n",
    "\n",
    "# Generate README\n",
    "generator = ReadmeGenerator(config)\n",
    "readme_content = generator.generate(\"https://github.com/sarthak221995/Multi-Agent-Systems-with-CrewAI\")"
   ]
  }
 ],
 "metadata": {
  "language_info": {
   "name": "python"
  }
 },
 "nbformat": 4,
 "nbformat_minor": 5
}
